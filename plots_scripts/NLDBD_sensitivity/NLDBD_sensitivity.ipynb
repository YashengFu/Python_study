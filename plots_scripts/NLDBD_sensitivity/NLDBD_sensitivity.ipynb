{
 "metadata": {
  "language_info": {
   "codemirror_mode": {
    "name": "ipython",
    "version": 3
   },
   "file_extension": ".py",
   "mimetype": "text/x-python",
   "name": "python",
   "nbconvert_exporter": "python",
   "pygments_lexer": "ipython3",
   "version": "3.6.8-final"
  },
  "orig_nbformat": 2,
  "kernelspec": {
   "name": "python3",
   "display_name": "Python 3",
   "language": "python"
  }
 },
 "nbformat": 4,
 "nbformat_minor": 2,
 "cells": [
  {
   "cell_type": "code",
   "execution_count": 9,
   "metadata": {},
   "outputs": [],
   "source": [
    "import numpy as np\n",
    "import matplotlib.pyplot as plt\n",
    "import matplotlib.pyplot as plt"
   ]
  },
  {
   "cell_type": "code",
   "execution_count": null,
   "metadata": {},
   "outputs": [],
   "source": [
    "\n",
    "halftime_list = [1.8e28, 6.6e27, 5.6e27, 1.1e26, 5.0e25, 1.9e25, 2.7e24]\n",
    "N_a = 6.022e23\n",
    "alpha = 1.64 # 90%CL \n",
    "constant = np.log(2)\n",
    "\n",
    "Bi=np.arange(1e-4,50,10e-3)\n",
    "\n",
    "fig = plt.figure(figsize=(6,4.5))\n",
    "ax = fig.add_subplot(1,1,1)\n",
    "\n",
    "for i in range(len(halftime_list)):\n",
    "    ax.plot(Bi,pow((halftime_list[i]*alpha/(constant*N_a)),2)*Bi*1e-3,'--',color='grey')\n",
    "\n",
    "markersize_value=10\n",
    "ax.plot(35,14,'P',markersize=markersize_value,label='CUORE-0',color='black')\n",
    "ax.plot(0.6,3,'s',markersize=markersize_value,label='GERDA(phase-II,coxial)',color='fuchsia',fillstyle='none')\n",
    "ax.plot(0.1,5,'s',markersize=markersize_value,label='GERDA(phase-II,BEGe)',color='fuchsia')\n",
    "ax.plot(0.045,2.5,'^',markersize=markersize_value,label='KamLAND-Zen(phase-II,period1)',color='lime',fillstyle='none')\n",
    "ax.plot(0.023,2.5,'^',markersize=markersize_value,label='KamLAND-Zen(phase-II,period2)',color='lime')\n",
    "ax.plot(0.4,3.8,'o',markersize=markersize_value,label='EXO-200',color='blue')\n",
    "ax.plot(3e-3,1.3e3,'d',markersize=markersize_value,label='nEXO(w/o Ba-tagging)',color='blue')\n",
    "ax.plot(2.5e-3,1e3,'*',markersize=markersize_value,label='JUNO Xe-LS(5 tons)',color='red',fillstyle='none')\n",
    "ax.plot(2.5e-3,1e4,'*',markersize=markersize_value,label='JUNO Xe-LS(50 tons)',color='red')\n",
    "ax.legend(loc = 'upper right')\n",
    "\n",
    "rotation_value = 29 \n",
    "size_value=12\n",
    "ax.text(0.6e-3,0.55e4,'$1.8\\\\times 10^{28}yr$',rotation=rotation_value,size=size_value)\n",
    "ax.text(3e-3,3.9e3,'$6.6\\\\times 10^{27}yr$',rotation=rotation_value,size=size_value)\n",
    "ax.text(1e-3,1e2,'$5.6\\\\times 10^{27}yr$',rotation=rotation_value,size=size_value)\n",
    "ax.text(1e-3,0.3,'$1.1\\\\times 10^{26}yr$',rotation=rotation_value,size=size_value)\n",
    "ax.text(3e-3,0.16,'$5.0\\\\times 10^{25}yr$',rotation=rotation_value,size=size_value)\n",
    "ax.text(0.02,0.18,'$1.9\\\\times 10^{25}yr$',rotation=rotation_value,size=size_value)\n",
    "ax.text(1.5,0.24,'$2.7\\\\times 10^{24}yr$',rotation=rotation_value,size=size_value)\n",
    "\n",
    "\n",
    "ax.set_xlabel('background index in ROI/$10^{-3}$ cnts/ $\\\\rm (keV \\cdot mol\\cdot yr)^{-1}$',size=12,labelpad=15)\n",
    "ax.set_xlim([0.5e-3,50])\n",
    "ax.set_xscale('log')\n",
    "ax.set_ylabel('normalized exposure (mol $\\cdot$ yr/keV)',size=12,labelpad=15)\n",
    "ax.set_ylim([0.1,1e5])\n",
    "ax.set_yscale('log')\n",
    "plt.savefig('./NLDBD_sensitivity.png')"
   ]
  },
  {
   "cell_type": "code",
   "execution_count": null,
   "metadata": {},
   "outputs": [],
   "source": []
  }
 ]
}